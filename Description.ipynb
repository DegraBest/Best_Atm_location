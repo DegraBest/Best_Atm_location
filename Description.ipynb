{
 "cells": [
  {
   "cell_type": "markdown",
   "metadata": {},
   "source": [
    "### Description of the data\n",
    "\n",
    "In the execution of this project I will use the following:\n",
    "I will collect the offsite ATMs and branch data concerning their location and address from the bank website https://www.centenarybank.co.ug/index.php/branches/index. ATM and Branch data will be merged into one data frame because where there is a branch there is an ATM. \n",
    "I will also extract data concerning of the Top most populated towns in Uganda from Wikipedia: https://en.wikipedia.org/wiki/List_of_cities_and_towns_in_Uganda.  \n",
    "I will use Forsqure API to get the most common venues of different towns in Uganda.\n",
    "\n"
   ]
  },
  {
   "cell_type": "code",
   "execution_count": null,
   "metadata": {},
   "outputs": [],
   "source": []
  }
 ],
 "metadata": {
  "kernelspec": {
   "display_name": "Python 3",
   "language": "python",
   "name": "python3"
  },
  "language_info": {
   "codemirror_mode": {
    "name": "ipython",
    "version": 3
   },
   "file_extension": ".py",
   "mimetype": "text/x-python",
   "name": "python",
   "nbconvert_exporter": "python",
   "pygments_lexer": "ipython3",
   "version": "3.8.5"
  }
 },
 "nbformat": 4,
 "nbformat_minor": 4
}
