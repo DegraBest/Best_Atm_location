{
 "cells": [
  {
   "cell_type": "markdown",
   "metadata": {},
   "source": [
    "### Introduction/Business Problem\n",
    "\n",
    "Centenary Bank is a commercial bank in Uganda licensed by the Bank of Uganda, the central bank and national banking regulator\n",
    "Centenary Bank is of the second largest financial services provider in Uganda with over 1.8m consumers, employing over 2754 staff and has an asset base of UShs. 3.567 trillion as of December 31, 2019\n",
    "The bank has a network of 71 bank branches together with 189 linked automated teller machines at 123 locations in the Central, Western, Northern, and Eastern Regions. \n",
    "Being the fastest growing bank in Uganda with a high number of customers, the bank through ATMs extends its services to the customers in different regions. Determining the best ATM allocation is a crucial thing in extending the services to customers but a great challenge. \n",
    "In this case an ATM cannot be placed in a region where there are no customers, or less populated. Since the bank has many ATMs all over the country, choosing good location where is no ATM or distant from another ATM or branch is not easy\n",
    "Therefore, the goal of this exercise is to give a recommendation to the bank of the best location of putting an ATM.\n"
   ]
  },
  {
   "cell_type": "code",
   "execution_count": null,
   "metadata": {},
   "outputs": [],
   "source": []
  }
 ],
 "metadata": {
  "kernelspec": {
   "display_name": "Python 3",
   "language": "python",
   "name": "python3"
  },
  "language_info": {
   "codemirror_mode": {
    "name": "ipython",
    "version": 3
   },
   "file_extension": ".py",
   "mimetype": "text/x-python",
   "name": "python",
   "nbconvert_exporter": "python",
   "pygments_lexer": "ipython3",
   "version": "3.8.5"
  }
 },
 "nbformat": 4,
 "nbformat_minor": 4
}
